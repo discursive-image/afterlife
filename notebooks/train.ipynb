{
 "cells": [
  {
   "cell_type": "code",
   "execution_count": 192,
   "id": "7f661538-66e5-4507-b121-f73309ddcf6b",
   "metadata": {},
   "outputs": [],
   "source": [
    "import json\n",
    "import torch\n",
    "import torch.nn as nn\n",
    "import numpy as np\n",
    "from torch.utils.data import Dataset, DataLoader\n",
    "from pathlib import Path"
   ]
  },
  {
   "cell_type": "code",
   "execution_count": 254,
   "id": "4130e797-a003-462c-acae-de5f34ce3912",
   "metadata": {},
   "outputs": [],
   "source": [
    "# Importing the dataset.\n",
    "# The LIDAR server produces samples at 30Hz with object positions normalized in their\n",
    "# space, i.e. x and y values are in the 0-1 range.\n",
    "datadir = Path(\"../testdata\")\n",
    "names = [\n",
    "    \"dump-1731964073793.jsonl\",\n",
    "    \"dump-1731965089198.jsonl\",\n",
    "    \"dump-1731966752296.jsonl\",\n",
    "    \"dump-1732220377000.jsonl\",\n",
    "    \"dump-1732378712139.jsonl\"\n",
    "]\n",
    "\n",
    "data = []\n",
    "for name in names:\n",
    "    path = datadir.joinpath(datadir, name)\n",
    "    f = open(path, 'r')\n",
    "    last_is_zero = False\n",
    "    points = []\n",
    "    for line in f.readlines():\n",
    "        d = json.loads(line)\n",
    "        if d['type'] != 'object':\n",
    "            continue\n",
    "        payload = d['payload']\n",
    "        # At the beginning and end of the session there is nobody on stage and\n",
    "        # there are many 0,0 points.\n",
    "        is_zero = payload['x'] == 0 and payload['y'] == 0\n",
    "        if is_zero:\n",
    "            continue\n",
    "            \n",
    "        points.append({\n",
    "            'x': payload['x'],\n",
    "            'y': payload['y'],\n",
    "        })\n",
    "    data.append(points)"
   ]
  },
  {
   "cell_type": "code",
   "execution_count": 255,
   "id": "02d8ff0c-9a15-484b-a51c-2d036c630438",
   "metadata": {},
   "outputs": [],
   "source": [
    "class SequenceToSequenceDataset(Dataset):\n",
    "    # Instead of predicting the next point, we make the network predict\n",
    "    # the next trajectory. This way, it will be forced to imitate the\n",
    "    # behaviour of the training setup.\n",
    "    def __init__(self, data, sequence_length=90):\n",
    "        self.sequence_length = sequence_length\n",
    "\n",
    "        for points in data:     \n",
    "            # Convert data to numpy array\n",
    "            xy_points = np.array([[d['x'], d['y']] for d in points])\n",
    "        \n",
    "            # Create sequences\n",
    "            self.sequences = []\n",
    "            self.targets = []\n",
    "        \n",
    "            for i in range(len(xy_points) - (sequence_length * 2)):\n",
    "                start = i\n",
    "                mid = i + sequence_length\n",
    "                end = mid + sequence_length\n",
    "            \n",
    "                self.sequences.append(xy_points[start:mid])\n",
    "                self.targets.append(xy_points[mid:end])\n",
    "    \n",
    "    def __len__(self):\n",
    "        return len(self.sequences)\n",
    "    \n",
    "    def __getitem__(self, idx):\n",
    "        return torch.as_tensor([self.sequences[idx], self.targets[idx]], dtype=torch.float32)"
   ]
  },
  {
   "cell_type": "code",
   "execution_count": 256,
   "id": "abdf5ce8-2713-43e5-bf48-8085ff84f2d9",
   "metadata": {},
   "outputs": [
    {
     "data": {
      "text/plain": [
       "torch.Size([2, 90, 2])"
      ]
     },
     "execution_count": 256,
     "metadata": {},
     "output_type": "execute_result"
    }
   ],
   "source": [
    "# Checking that the dataset works.\n",
    "dataset = SequenceToSequenceDataset(data)\n",
    "next(iter(dataset)).shape"
   ]
  },
  {
   "cell_type": "code",
   "execution_count": 257,
   "id": "201a86a0-5ead-4675-bf2c-37ef5962a1c8",
   "metadata": {},
   "outputs": [],
   "source": [
    "class TrajectoryPredictor(nn.Module):\n",
    "    def __init__(self, input_dim=2, hidden_dim=128, lstm_layers=3, dense_layers=[64, 32, 16], output_dim=2):\n",
    "        super(TrajectoryPredictor, self).__init__()\n",
    "        \n",
    "        # LSTM layers for temporal processing\n",
    "        self.lstm = nn.LSTM(\n",
    "            input_size=input_dim,\n",
    "            hidden_size=hidden_dim,\n",
    "            num_layers=lstm_layers,\n",
    "            batch_first=True\n",
    "        )\n",
    "        \n",
    "        # Fully connected layers for further feature processing\n",
    "        dense_layers_list = []\n",
    "        input_size = hidden_dim\n",
    "        for layer_size in dense_layers:\n",
    "            dense_layers_list.append(nn.Linear(input_size, layer_size))\n",
    "            dense_layers_list.append(nn.ReLU())\n",
    "            input_size = layer_size\n",
    "        self.fc = nn.Sequential(*dense_layers_list)\n",
    "        \n",
    "        # Output layer with Sigmoid activation\n",
    "        self.output_layer = nn.Linear(input_size, output_dim)\n",
    "        self.sigmoid = nn.Sigmoid()\n",
    "    \n",
    "    def forward(self, x):\n",
    "        # x: (batch_size, input_sequence_length, input_dim)\n",
    "        lstm_out, _ = self.lstm(x)  # lstm_out: (batch_size, input_sequence_length, hidden_dim)\n",
    "        dense_out = self.fc(lstm_out)  # Pass each timestep's hidden state through dense layers\n",
    "        output = self.sigmoid(self.output_layer(dense_out))  # Output: (batch_size, input_sequence_length, output_dim)\n",
    "        return output"
   ]
  },
  {
   "cell_type": "code",
   "execution_count": 252,
   "id": "564692a2-8684-4629-983e-13af17201b9d",
   "metadata": {},
   "outputs": [
    {
     "name": "stdout",
     "output_type": "stream",
     "text": [
      "tensor([[[0.5558, 0.5719],\n",
      "         [0.5559, 0.5719],\n",
      "         [0.5560, 0.5719],\n",
      "         [0.5560, 0.5719],\n",
      "         [0.5561, 0.5719]]])\n"
     ]
    }
   ],
   "source": [
    "# Checking that the model works\n",
    "model = TrajectoryPredictor()\n",
    "with torch.no_grad():\n",
    "    dummy_input = torch.rand(1, 5, 2)\n",
    "    # Forward pass\n",
    "    output = model(dummy_input)\n",
    "    print(output) "
   ]
  },
  {
   "cell_type": "code",
   "execution_count": 267,
   "id": "0f849fee-1059-4b7f-8f78-b5aef633dd83",
   "metadata": {},
   "outputs": [
    {
     "data": {
      "text/html": [
       "Finishing last run (ID:ddlbo31v) before initializing another..."
      ],
      "text/plain": [
       "<IPython.core.display.HTML object>"
      ]
     },
     "metadata": {},
     "output_type": "display_data"
    },
    {
     "data": {
      "text/html": [
       "\n",
       "    <style>\n",
       "        .wandb-row {\n",
       "            display: flex;\n",
       "            flex-direction: row;\n",
       "            flex-wrap: wrap;\n",
       "            justify-content: flex-start;\n",
       "            width: 100%;\n",
       "        }\n",
       "        .wandb-col {\n",
       "            display: flex;\n",
       "            flex-direction: column;\n",
       "            flex-basis: 100%;\n",
       "            flex: 1;\n",
       "            padding: 10px;\n",
       "        }\n",
       "    </style>\n",
       "<div class=\"wandb-row\"><div class=\"wandb-col\"><h3>Run history:</h3><br/><table class=\"wandb\"><tr><td>train_loss</td><td>▁</td></tr><tr><td>val_loss</td><td>▁</td></tr></table><br/></div><div class=\"wandb-col\"><h3>Run summary:</h3><br/><table class=\"wandb\"><tr><td>train_loss</td><td>0.05077</td></tr><tr><td>val_loss</td><td>0.05089</td></tr></table><br/></div></div>"
      ],
      "text/plain": [
       "<IPython.core.display.HTML object>"
      ]
     },
     "metadata": {},
     "output_type": "display_data"
    },
    {
     "data": {
      "text/html": [
       " View run <strong style=\"color:#cdcd00\">effortless-microwave-3</strong> at: <a href='https://wandb.ai/kim-company/afterlife/runs/ddlbo31v' target=\"_blank\">https://wandb.ai/kim-company/afterlife/runs/ddlbo31v</a><br/> View project at: <a href='https://wandb.ai/kim-company/afterlife' target=\"_blank\">https://wandb.ai/kim-company/afterlife</a><br/>Synced 5 W&B file(s), 0 media file(s), 0 artifact file(s) and 0 other file(s)"
      ],
      "text/plain": [
       "<IPython.core.display.HTML object>"
      ]
     },
     "metadata": {},
     "output_type": "display_data"
    },
    {
     "data": {
      "text/html": [
       "Find logs at: <code>./wandb/run-20241127_235013-ddlbo31v/logs</code>"
      ],
      "text/plain": [
       "<IPython.core.display.HTML object>"
      ]
     },
     "metadata": {},
     "output_type": "display_data"
    },
    {
     "data": {
      "text/html": [
       "Successfully finished last run (ID:ddlbo31v). Initializing new run:<br/>"
      ],
      "text/plain": [
       "<IPython.core.display.HTML object>"
      ]
     },
     "metadata": {},
     "output_type": "display_data"
    },
    {
     "data": {
      "text/html": [
       "Tracking run with wandb version 0.18.7"
      ],
      "text/plain": [
       "<IPython.core.display.HTML object>"
      ]
     },
     "metadata": {},
     "output_type": "display_data"
    },
    {
     "data": {
      "text/html": [
       "Run data is saved locally in <code>/Users/dmorn/projects/sy/afterlife/notebooks/wandb/run-20241127_235114-uklmv5fb</code>"
      ],
      "text/plain": [
       "<IPython.core.display.HTML object>"
      ]
     },
     "metadata": {},
     "output_type": "display_data"
    },
    {
     "data": {
      "text/html": [
       "Syncing run <strong><a href='https://wandb.ai/kim-company/afterlife/runs/uklmv5fb' target=\"_blank\">crimson-music-4</a></strong> to <a href='https://wandb.ai/kim-company/afterlife' target=\"_blank\">Weights & Biases</a> (<a href='https://wandb.me/developer-guide' target=\"_blank\">docs</a>)<br/>"
      ],
      "text/plain": [
       "<IPython.core.display.HTML object>"
      ]
     },
     "metadata": {},
     "output_type": "display_data"
    },
    {
     "data": {
      "text/html": [
       " View project at <a href='https://wandb.ai/kim-company/afterlife' target=\"_blank\">https://wandb.ai/kim-company/afterlife</a>"
      ],
      "text/plain": [
       "<IPython.core.display.HTML object>"
      ]
     },
     "metadata": {},
     "output_type": "display_data"
    },
    {
     "data": {
      "text/html": [
       " View run at <a href='https://wandb.ai/kim-company/afterlife/runs/uklmv5fb' target=\"_blank\">https://wandb.ai/kim-company/afterlife/runs/uklmv5fb</a>"
      ],
      "text/plain": [
       "<IPython.core.display.HTML object>"
      ]
     },
     "metadata": {},
     "output_type": "display_data"
    },
    {
     "name": "stderr",
     "output_type": "stream",
     "text": [
      "Epoch 1/200 - Training: 100%|████████████████████████████████████████████████████████████████████████████████████████████████████████| 424/424 [00:07<00:00, 55.13it/s]\n",
      "Validating: 100%|███████████████████████████████████████████████████████████████████████████████████████████████████████████████████| 106/106 [00:00<00:00, 125.66it/s]\n"
     ]
    },
    {
     "name": "stdout",
     "output_type": "stream",
     "text": [
      "Epoch 1/200 - Train Loss: 0.0496, Val Loss: 0.0512\n"
     ]
    },
    {
     "name": "stderr",
     "output_type": "stream",
     "text": [
      "Epoch 2/200 - Training: 100%|████████████████████████████████████████████████████████████████████████████████████████████████████████| 424/424 [00:07<00:00, 56.13it/s]\n",
      "Validating: 100%|███████████████████████████████████████████████████████████████████████████████████████████████████████████████████| 106/106 [00:00<00:00, 120.98it/s]\n"
     ]
    },
    {
     "name": "stdout",
     "output_type": "stream",
     "text": [
      "Epoch 2/200 - Train Loss: 0.0467, Val Loss: 0.0457\n"
     ]
    },
    {
     "name": "stderr",
     "output_type": "stream",
     "text": [
      "Epoch 3/200 - Training: 100%|████████████████████████████████████████████████████████████████████████████████████████████████████████| 424/424 [00:07<00:00, 56.87it/s]\n",
      "Validating: 100%|███████████████████████████████████████████████████████████████████████████████████████████████████████████████████| 106/106 [00:00<00:00, 122.48it/s]\n"
     ]
    },
    {
     "name": "stdout",
     "output_type": "stream",
     "text": [
      "Epoch 3/200 - Train Loss: 0.0444, Val Loss: 0.0448\n"
     ]
    },
    {
     "name": "stderr",
     "output_type": "stream",
     "text": [
      "Epoch 4/200 - Training: 100%|████████████████████████████████████████████████████████████████████████████████████████████████████████| 424/424 [00:07<00:00, 57.67it/s]\n",
      "Validating: 100%|███████████████████████████████████████████████████████████████████████████████████████████████████████████████████| 106/106 [00:00<00:00, 121.18it/s]\n"
     ]
    },
    {
     "name": "stdout",
     "output_type": "stream",
     "text": [
      "Epoch 4/200 - Train Loss: 0.0442, Val Loss: 0.0446\n"
     ]
    },
    {
     "name": "stderr",
     "output_type": "stream",
     "text": [
      "Epoch 5/200 - Training: 100%|████████████████████████████████████████████████████████████████████████████████████████████████████████| 424/424 [00:07<00:00, 56.58it/s]\n",
      "Validating: 100%|███████████████████████████████████████████████████████████████████████████████████████████████████████████████████| 106/106 [00:00<00:00, 117.01it/s]\n"
     ]
    },
    {
     "name": "stdout",
     "output_type": "stream",
     "text": [
      "Epoch 5/200 - Train Loss: 0.0441, Val Loss: 0.0443\n"
     ]
    },
    {
     "name": "stderr",
     "output_type": "stream",
     "text": [
      "Epoch 6/200 - Training: 100%|████████████████████████████████████████████████████████████████████████████████████████████████████████| 424/424 [00:07<00:00, 56.14it/s]\n",
      "Validating: 100%|███████████████████████████████████████████████████████████████████████████████████████████████████████████████████| 106/106 [00:00<00:00, 119.79it/s]\n"
     ]
    },
    {
     "name": "stdout",
     "output_type": "stream",
     "text": [
      "Epoch 6/200 - Train Loss: 0.0438, Val Loss: 0.0430\n"
     ]
    },
    {
     "name": "stderr",
     "output_type": "stream",
     "text": [
      "Epoch 7/200 - Training: 100%|████████████████████████████████████████████████████████████████████████████████████████████████████████| 424/424 [00:07<00:00, 56.16it/s]\n",
      "Validating: 100%|███████████████████████████████████████████████████████████████████████████████████████████████████████████████████| 106/106 [00:00<00:00, 118.42it/s]\n"
     ]
    },
    {
     "name": "stdout",
     "output_type": "stream",
     "text": [
      "Epoch 7/200 - Train Loss: 0.0423, Val Loss: 0.0430\n"
     ]
    },
    {
     "name": "stderr",
     "output_type": "stream",
     "text": [
      "Epoch 8/200 - Training: 100%|████████████████████████████████████████████████████████████████████████████████████████████████████████| 424/424 [00:07<00:00, 55.98it/s]\n",
      "Validating: 100%|███████████████████████████████████████████████████████████████████████████████████████████████████████████████████| 106/106 [00:00<00:00, 120.29it/s]\n"
     ]
    },
    {
     "name": "stdout",
     "output_type": "stream",
     "text": [
      "Epoch 8/200 - Train Loss: 0.0409, Val Loss: 0.0422\n"
     ]
    },
    {
     "name": "stderr",
     "output_type": "stream",
     "text": [
      "Epoch 9/200 - Training: 100%|████████████████████████████████████████████████████████████████████████████████████████████████████████| 424/424 [00:07<00:00, 55.86it/s]\n",
      "Validating: 100%|███████████████████████████████████████████████████████████████████████████████████████████████████████████████████| 106/106 [00:00<00:00, 119.85it/s]\n"
     ]
    },
    {
     "name": "stdout",
     "output_type": "stream",
     "text": [
      "Epoch 9/200 - Train Loss: 0.0388, Val Loss: 0.0399\n"
     ]
    },
    {
     "name": "stderr",
     "output_type": "stream",
     "text": [
      "Epoch 10/200 - Training: 100%|███████████████████████████████████████████████████████████████████████████████████████████████████████| 424/424 [00:07<00:00, 55.48it/s]\n",
      "Validating: 100%|███████████████████████████████████████████████████████████████████████████████████████████████████████████████████| 106/106 [00:00<00:00, 119.93it/s]\n"
     ]
    },
    {
     "name": "stdout",
     "output_type": "stream",
     "text": [
      "Epoch 10/200 - Train Loss: 0.0374, Val Loss: 0.0374\n"
     ]
    },
    {
     "name": "stderr",
     "output_type": "stream",
     "text": [
      "Epoch 11/200 - Training: 100%|███████████████████████████████████████████████████████████████████████████████████████████████████████| 424/424 [00:07<00:00, 55.78it/s]\n",
      "Validating: 100%|███████████████████████████████████████████████████████████████████████████████████████████████████████████████████| 106/106 [00:00<00:00, 119.36it/s]\n"
     ]
    },
    {
     "name": "stdout",
     "output_type": "stream",
     "text": [
      "Epoch 11/200 - Train Loss: 0.0371, Val Loss: 0.0372\n"
     ]
    },
    {
     "name": "stderr",
     "output_type": "stream",
     "text": [
      "Epoch 12/200 - Training: 100%|███████████████████████████████████████████████████████████████████████████████████████████████████████| 424/424 [00:07<00:00, 55.64it/s]\n",
      "Validating: 100%|███████████████████████████████████████████████████████████████████████████████████████████████████████████████████| 106/106 [00:00<00:00, 119.99it/s]\n"
     ]
    },
    {
     "name": "stdout",
     "output_type": "stream",
     "text": [
      "Epoch 12/200 - Train Loss: 0.0365, Val Loss: 0.0374\n"
     ]
    },
    {
     "name": "stderr",
     "output_type": "stream",
     "text": [
      "Epoch 13/200 - Training: 100%|███████████████████████████████████████████████████████████████████████████████████████████████████████| 424/424 [00:07<00:00, 56.01it/s]\n",
      "Validating: 100%|███████████████████████████████████████████████████████████████████████████████████████████████████████████████████| 106/106 [00:00<00:00, 119.18it/s]\n"
     ]
    },
    {
     "name": "stdout",
     "output_type": "stream",
     "text": [
      "Epoch 13/200 - Train Loss: 0.0362, Val Loss: 0.0359\n"
     ]
    },
    {
     "name": "stderr",
     "output_type": "stream",
     "text": [
      "Epoch 14/200 - Training: 100%|███████████████████████████████████████████████████████████████████████████████████████████████████████| 424/424 [00:07<00:00, 55.89it/s]\n",
      "Validating: 100%|███████████████████████████████████████████████████████████████████████████████████████████████████████████████████| 106/106 [00:00<00:00, 120.34it/s]\n"
     ]
    },
    {
     "name": "stdout",
     "output_type": "stream",
     "text": [
      "Epoch 14/200 - Train Loss: 0.0364, Val Loss: 0.0363\n"
     ]
    },
    {
     "name": "stderr",
     "output_type": "stream",
     "text": [
      "Epoch 15/200 - Training: 100%|███████████████████████████████████████████████████████████████████████████████████████████████████████| 424/424 [00:10<00:00, 39.67it/s]\n",
      "Validating: 100%|███████████████████████████████████████████████████████████████████████████████████████████████████████████████████| 106/106 [00:00<00:00, 116.22it/s]\n"
     ]
    },
    {
     "name": "stdout",
     "output_type": "stream",
     "text": [
      "Epoch 15/200 - Train Loss: 0.0358, Val Loss: 0.0368\n"
     ]
    },
    {
     "name": "stderr",
     "output_type": "stream",
     "text": [
      "Epoch 16/200 - Training: 100%|███████████████████████████████████████████████████████████████████████████████████████████████████████| 424/424 [00:07<00:00, 55.91it/s]\n",
      "Validating: 100%|███████████████████████████████████████████████████████████████████████████████████████████████████████████████████| 106/106 [00:00<00:00, 120.62it/s]\n"
     ]
    },
    {
     "name": "stdout",
     "output_type": "stream",
     "text": [
      "Epoch 16/200 - Train Loss: 0.0358, Val Loss: 0.0365\n"
     ]
    },
    {
     "name": "stderr",
     "output_type": "stream",
     "text": [
      "Epoch 17/200 - Training: 100%|███████████████████████████████████████████████████████████████████████████████████████████████████████| 424/424 [00:07<00:00, 55.67it/s]\n",
      "Validating: 100%|███████████████████████████████████████████████████████████████████████████████████████████████████████████████████| 106/106 [00:00<00:00, 120.22it/s]\n"
     ]
    },
    {
     "name": "stdout",
     "output_type": "stream",
     "text": [
      "Epoch 17/200 - Train Loss: 0.0352, Val Loss: 0.0358\n"
     ]
    },
    {
     "name": "stderr",
     "output_type": "stream",
     "text": [
      "Epoch 18/200 - Training: 100%|███████████████████████████████████████████████████████████████████████████████████████████████████████| 424/424 [00:07<00:00, 55.87it/s]\n",
      "Validating: 100%|███████████████████████████████████████████████████████████████████████████████████████████████████████████████████| 106/106 [00:00<00:00, 119.33it/s]\n"
     ]
    },
    {
     "name": "stdout",
     "output_type": "stream",
     "text": [
      "Epoch 18/200 - Train Loss: 0.0358, Val Loss: 0.0353\n"
     ]
    },
    {
     "name": "stderr",
     "output_type": "stream",
     "text": [
      "Epoch 19/200 - Training: 100%|███████████████████████████████████████████████████████████████████████████████████████████████████████| 424/424 [00:07<00:00, 55.77it/s]\n",
      "Validating: 100%|███████████████████████████████████████████████████████████████████████████████████████████████████████████████████| 106/106 [00:00<00:00, 119.66it/s]\n"
     ]
    },
    {
     "name": "stdout",
     "output_type": "stream",
     "text": [
      "Epoch 19/200 - Train Loss: 0.0356, Val Loss: 0.0355\n"
     ]
    },
    {
     "name": "stderr",
     "output_type": "stream",
     "text": [
      "Epoch 20/200 - Training: 100%|███████████████████████████████████████████████████████████████████████████████████████████████████████| 424/424 [00:12<00:00, 32.92it/s]\n",
      "Validating: 100%|███████████████████████████████████████████████████████████████████████████████████████████████████████████████████| 106/106 [00:00<00:00, 115.95it/s]\n"
     ]
    },
    {
     "name": "stdout",
     "output_type": "stream",
     "text": [
      "Epoch 20/200 - Train Loss: 0.0351, Val Loss: 0.0352\n"
     ]
    },
    {
     "name": "stderr",
     "output_type": "stream",
     "text": [
      "Epoch 21/200 - Training: 100%|███████████████████████████████████████████████████████████████████████████████████████████████████████| 424/424 [00:07<00:00, 55.73it/s]\n",
      "Validating: 100%|███████████████████████████████████████████████████████████████████████████████████████████████████████████████████| 106/106 [00:00<00:00, 120.49it/s]\n"
     ]
    },
    {
     "name": "stdout",
     "output_type": "stream",
     "text": [
      "Epoch 21/200 - Train Loss: 0.0351, Val Loss: 0.0352\n"
     ]
    },
    {
     "name": "stderr",
     "output_type": "stream",
     "text": [
      "Epoch 22/200 - Training: 100%|███████████████████████████████████████████████████████████████████████████████████████████████████████| 424/424 [00:07<00:00, 55.79it/s]\n",
      "Validating: 100%|███████████████████████████████████████████████████████████████████████████████████████████████████████████████████| 106/106 [00:00<00:00, 120.22it/s]\n"
     ]
    },
    {
     "name": "stdout",
     "output_type": "stream",
     "text": [
      "Epoch 22/200 - Train Loss: 0.0346, Val Loss: 0.0356\n"
     ]
    },
    {
     "name": "stderr",
     "output_type": "stream",
     "text": [
      "Epoch 23/200 - Training: 100%|███████████████████████████████████████████████████████████████████████████████████████████████████████| 424/424 [00:07<00:00, 55.73it/s]\n",
      "Validating: 100%|███████████████████████████████████████████████████████████████████████████████████████████████████████████████████| 106/106 [00:00<00:00, 119.97it/s]\n"
     ]
    },
    {
     "name": "stdout",
     "output_type": "stream",
     "text": [
      "Epoch 23/200 - Train Loss: 0.0347, Val Loss: 0.0348\n"
     ]
    },
    {
     "name": "stderr",
     "output_type": "stream",
     "text": [
      "Epoch 24/200 - Training: 100%|███████████████████████████████████████████████████████████████████████████████████████████████████████| 424/424 [00:07<00:00, 55.79it/s]\n",
      "Validating: 100%|███████████████████████████████████████████████████████████████████████████████████████████████████████████████████| 106/106 [00:00<00:00, 119.92it/s]\n"
     ]
    },
    {
     "name": "stdout",
     "output_type": "stream",
     "text": [
      "Epoch 24/200 - Train Loss: 0.0342, Val Loss: 0.0356\n"
     ]
    },
    {
     "name": "stderr",
     "output_type": "stream",
     "text": [
      "Epoch 25/200 - Training: 100%|███████████████████████████████████████████████████████████████████████████████████████████████████████| 424/424 [00:13<00:00, 30.58it/s]\n",
      "Validating: 100%|███████████████████████████████████████████████████████████████████████████████████████████████████████████████████| 106/106 [00:00<00:00, 115.94it/s]\n"
     ]
    },
    {
     "name": "stdout",
     "output_type": "stream",
     "text": [
      "Epoch 25/200 - Train Loss: 0.0348, Val Loss: 0.0344\n"
     ]
    },
    {
     "name": "stderr",
     "output_type": "stream",
     "text": [
      "Epoch 26/200 - Training: 100%|███████████████████████████████████████████████████████████████████████████████████████████████████████| 424/424 [00:16<00:00, 24.96it/s]\n",
      "Validating: 100%|███████████████████████████████████████████████████████████████████████████████████████████████████████████████████| 106/106 [00:00<00:00, 117.06it/s]\n"
     ]
    },
    {
     "name": "stdout",
     "output_type": "stream",
     "text": [
      "Epoch 26/200 - Train Loss: 0.0343, Val Loss: 0.0349\n"
     ]
    },
    {
     "name": "stderr",
     "output_type": "stream",
     "text": [
      "Epoch 27/200 - Training: 100%|███████████████████████████████████████████████████████████████████████████████████████████████████████| 424/424 [00:07<00:00, 55.67it/s]\n",
      "Validating: 100%|███████████████████████████████████████████████████████████████████████████████████████████████████████████████████| 106/106 [00:00<00:00, 119.83it/s]\n"
     ]
    },
    {
     "name": "stdout",
     "output_type": "stream",
     "text": [
      "Epoch 27/200 - Train Loss: 0.0340, Val Loss: 0.0340\n"
     ]
    },
    {
     "name": "stderr",
     "output_type": "stream",
     "text": [
      "Epoch 28/200 - Training: 100%|███████████████████████████████████████████████████████████████████████████████████████████████████████| 424/424 [00:07<00:00, 55.69it/s]\n",
      "Validating: 100%|███████████████████████████████████████████████████████████████████████████████████████████████████████████████████| 106/106 [00:00<00:00, 120.25it/s]\n"
     ]
    },
    {
     "name": "stdout",
     "output_type": "stream",
     "text": [
      "Epoch 28/200 - Train Loss: 0.0338, Val Loss: 0.0351\n"
     ]
    },
    {
     "name": "stderr",
     "output_type": "stream",
     "text": [
      "Epoch 29/200 - Training: 100%|███████████████████████████████████████████████████████████████████████████████████████████████████████| 424/424 [00:07<00:00, 53.14it/s]\n",
      "Validating: 100%|███████████████████████████████████████████████████████████████████████████████████████████████████████████████████| 106/106 [00:00<00:00, 113.40it/s]\n"
     ]
    },
    {
     "name": "stdout",
     "output_type": "stream",
     "text": [
      "Epoch 29/200 - Train Loss: 0.0338, Val Loss: 0.0350\n"
     ]
    },
    {
     "name": "stderr",
     "output_type": "stream",
     "text": [
      "Epoch 30/200 - Training: 100%|███████████████████████████████████████████████████████████████████████████████████████████████████████| 424/424 [00:16<00:00, 25.08it/s]\n",
      "Validating: 100%|███████████████████████████████████████████████████████████████████████████████████████████████████████████████████| 106/106 [00:00<00:00, 115.48it/s]\n"
     ]
    },
    {
     "name": "stdout",
     "output_type": "stream",
     "text": [
      "Epoch 30/200 - Train Loss: 0.0336, Val Loss: 0.0359\n"
     ]
    },
    {
     "name": "stderr",
     "output_type": "stream",
     "text": [
      "Epoch 31/200 - Training: 100%|███████████████████████████████████████████████████████████████████████████████████████████████████████| 424/424 [00:16<00:00, 25.23it/s]\n",
      "Validating: 100%|███████████████████████████████████████████████████████████████████████████████████████████████████████████████████| 106/106 [00:00<00:00, 114.40it/s]\n"
     ]
    },
    {
     "name": "stdout",
     "output_type": "stream",
     "text": [
      "Epoch 31/200 - Train Loss: 0.0334, Val Loss: 0.0346\n"
     ]
    },
    {
     "name": "stderr",
     "output_type": "stream",
     "text": [
      "Epoch 32/200 - Training: 100%|███████████████████████████████████████████████████████████████████████████████████████████████████████| 424/424 [00:16<00:00, 25.01it/s]\n",
      "Validating: 100%|███████████████████████████████████████████████████████████████████████████████████████████████████████████████████| 106/106 [00:00<00:00, 117.15it/s]\n"
     ]
    },
    {
     "name": "stdout",
     "output_type": "stream",
     "text": [
      "Epoch 32/200 - Train Loss: 0.0335, Val Loss: 0.0338\n"
     ]
    },
    {
     "name": "stderr",
     "output_type": "stream",
     "text": [
      "Epoch 33/200 - Training: 100%|███████████████████████████████████████████████████████████████████████████████████████████████████████| 424/424 [00:07<00:00, 56.42it/s]\n",
      "Validating: 100%|███████████████████████████████████████████████████████████████████████████████████████████████████████████████████| 106/106 [00:00<00:00, 119.78it/s]\n"
     ]
    },
    {
     "name": "stdout",
     "output_type": "stream",
     "text": [
      "Epoch 33/200 - Train Loss: 0.0333, Val Loss: 0.0346\n"
     ]
    },
    {
     "name": "stderr",
     "output_type": "stream",
     "text": [
      "Epoch 34/200 - Training: 100%|███████████████████████████████████████████████████████████████████████████████████████████████████████| 424/424 [00:07<00:00, 56.11it/s]\n",
      "Validating: 100%|███████████████████████████████████████████████████████████████████████████████████████████████████████████████████| 106/106 [00:00<00:00, 120.15it/s]\n"
     ]
    },
    {
     "name": "stdout",
     "output_type": "stream",
     "text": [
      "Epoch 34/200 - Train Loss: 0.0331, Val Loss: 0.0343\n"
     ]
    },
    {
     "name": "stderr",
     "output_type": "stream",
     "text": [
      "Epoch 35/200 - Training: 100%|███████████████████████████████████████████████████████████████████████████████████████████████████████| 424/424 [00:07<00:00, 55.95it/s]\n",
      "Validating: 100%|███████████████████████████████████████████████████████████████████████████████████████████████████████████████████| 106/106 [00:00<00:00, 118.73it/s]\n"
     ]
    },
    {
     "name": "stdout",
     "output_type": "stream",
     "text": [
      "Epoch 35/200 - Train Loss: 0.0331, Val Loss: 0.0337\n"
     ]
    },
    {
     "name": "stderr",
     "output_type": "stream",
     "text": [
      "Epoch 36/200 - Training: 100%|███████████████████████████████████████████████████████████████████████████████████████████████████████| 424/424 [00:13<00:00, 30.66it/s]\n",
      "Validating: 100%|███████████████████████████████████████████████████████████████████████████████████████████████████████████████████| 106/106 [00:00<00:00, 115.16it/s]\n"
     ]
    },
    {
     "name": "stdout",
     "output_type": "stream",
     "text": [
      "Epoch 36/200 - Train Loss: 0.0328, Val Loss: 0.0334\n"
     ]
    },
    {
     "name": "stderr",
     "output_type": "stream",
     "text": [
      "Epoch 37/200 - Training: 100%|███████████████████████████████████████████████████████████████████████████████████████████████████████| 424/424 [00:07<00:00, 55.97it/s]\n",
      "Validating: 100%|███████████████████████████████████████████████████████████████████████████████████████████████████████████████████| 106/106 [00:00<00:00, 119.80it/s]\n"
     ]
    },
    {
     "name": "stdout",
     "output_type": "stream",
     "text": [
      "Epoch 37/200 - Train Loss: 0.0326, Val Loss: 0.0344\n"
     ]
    },
    {
     "name": "stderr",
     "output_type": "stream",
     "text": [
      "Epoch 38/200 - Training: 100%|███████████████████████████████████████████████████████████████████████████████████████████████████████| 424/424 [00:07<00:00, 56.02it/s]\n",
      "Validating: 100%|███████████████████████████████████████████████████████████████████████████████████████████████████████████████████| 106/106 [00:00<00:00, 119.42it/s]\n"
     ]
    },
    {
     "name": "stdout",
     "output_type": "stream",
     "text": [
      "Epoch 38/200 - Train Loss: 0.0329, Val Loss: 0.0329\n"
     ]
    },
    {
     "name": "stderr",
     "output_type": "stream",
     "text": [
      "Epoch 39/200 - Training: 100%|███████████████████████████████████████████████████████████████████████████████████████████████████████| 424/424 [00:07<00:00, 55.85it/s]\n",
      "Validating: 100%|███████████████████████████████████████████████████████████████████████████████████████████████████████████████████| 106/106 [00:00<00:00, 119.68it/s]\n"
     ]
    },
    {
     "name": "stdout",
     "output_type": "stream",
     "text": [
      "Epoch 39/200 - Train Loss: 0.0330, Val Loss: 0.0332\n"
     ]
    },
    {
     "name": "stderr",
     "output_type": "stream",
     "text": [
      "Epoch 40/200 - Training: 100%|███████████████████████████████████████████████████████████████████████████████████████████████████████| 424/424 [00:07<00:00, 55.98it/s]\n",
      "Validating: 100%|███████████████████████████████████████████████████████████████████████████████████████████████████████████████████| 106/106 [00:00<00:00, 119.30it/s]\n"
     ]
    },
    {
     "name": "stdout",
     "output_type": "stream",
     "text": [
      "Epoch 40/200 - Train Loss: 0.0325, Val Loss: 0.0342\n"
     ]
    },
    {
     "name": "stderr",
     "output_type": "stream",
     "text": [
      "Epoch 41/200 - Training: 100%|███████████████████████████████████████████████████████████████████████████████████████████████████████| 424/424 [00:07<00:00, 55.74it/s]\n",
      "Validating: 100%|███████████████████████████████████████████████████████████████████████████████████████████████████████████████████| 106/106 [00:00<00:00, 118.34it/s]\n"
     ]
    },
    {
     "name": "stdout",
     "output_type": "stream",
     "text": [
      "Epoch 41/200 - Train Loss: 0.0328, Val Loss: 0.0336\n"
     ]
    },
    {
     "name": "stderr",
     "output_type": "stream",
     "text": [
      "Epoch 42/200 - Training: 100%|███████████████████████████████████████████████████████████████████████████████████████████████████████| 424/424 [00:07<00:00, 55.76it/s]\n",
      "Validating: 100%|███████████████████████████████████████████████████████████████████████████████████████████████████████████████████| 106/106 [00:00<00:00, 120.92it/s]\n"
     ]
    },
    {
     "name": "stdout",
     "output_type": "stream",
     "text": [
      "Epoch 42/200 - Train Loss: 0.0323, Val Loss: 0.0338\n"
     ]
    },
    {
     "name": "stderr",
     "output_type": "stream",
     "text": [
      "Epoch 43/200 - Training: 100%|███████████████████████████████████████████████████████████████████████████████████████████████████████| 424/424 [00:07<00:00, 55.88it/s]\n",
      "Validating: 100%|███████████████████████████████████████████████████████████████████████████████████████████████████████████████████| 106/106 [00:00<00:00, 118.76it/s]\n"
     ]
    },
    {
     "name": "stdout",
     "output_type": "stream",
     "text": [
      "Epoch 43/200 - Train Loss: 0.0323, Val Loss: 0.0359\n"
     ]
    },
    {
     "name": "stderr",
     "output_type": "stream",
     "text": [
      "Epoch 44/200 - Training: 100%|███████████████████████████████████████████████████████████████████████████████████████████████████████| 424/424 [00:07<00:00, 55.90it/s]\n",
      "Validating: 100%|███████████████████████████████████████████████████████████████████████████████████████████████████████████████████| 106/106 [00:00<00:00, 119.33it/s]\n"
     ]
    },
    {
     "name": "stdout",
     "output_type": "stream",
     "text": [
      "Epoch 44/200 - Train Loss: 0.0323, Val Loss: 0.0332\n"
     ]
    },
    {
     "name": "stderr",
     "output_type": "stream",
     "text": [
      "Epoch 45/200 - Training: 100%|███████████████████████████████████████████████████████████████████████████████████████████████████████| 424/424 [00:07<00:00, 55.92it/s]\n",
      "Validating: 100%|███████████████████████████████████████████████████████████████████████████████████████████████████████████████████| 106/106 [00:00<00:00, 119.08it/s]\n"
     ]
    },
    {
     "name": "stdout",
     "output_type": "stream",
     "text": [
      "Epoch 45/200 - Train Loss: 0.0328, Val Loss: 0.0328\n"
     ]
    },
    {
     "name": "stderr",
     "output_type": "stream",
     "text": [
      "Epoch 46/200 - Training: 100%|███████████████████████████████████████████████████████████████████████████████████████████████████████| 424/424 [00:07<00:00, 55.89it/s]\n",
      "Validating: 100%|███████████████████████████████████████████████████████████████████████████████████████████████████████████████████| 106/106 [00:00<00:00, 119.49it/s]\n"
     ]
    },
    {
     "name": "stdout",
     "output_type": "stream",
     "text": [
      "Epoch 46/200 - Train Loss: 0.0321, Val Loss: 0.0331\n"
     ]
    },
    {
     "name": "stderr",
     "output_type": "stream",
     "text": [
      "Epoch 47/200 - Training: 100%|███████████████████████████████████████████████████████████████████████████████████████████████████████| 424/424 [00:07<00:00, 54.78it/s]\n",
      "Validating: 100%|███████████████████████████████████████████████████████████████████████████████████████████████████████████████████| 106/106 [00:00<00:00, 115.55it/s]\n"
     ]
    },
    {
     "name": "stdout",
     "output_type": "stream",
     "text": [
      "Epoch 47/200 - Train Loss: 0.0323, Val Loss: 0.0323\n"
     ]
    },
    {
     "name": "stderr",
     "output_type": "stream",
     "text": [
      "Epoch 48/200 - Training: 100%|███████████████████████████████████████████████████████████████████████████████████████████████████████| 424/424 [00:17<00:00, 24.12it/s]\n",
      "Validating: 100%|███████████████████████████████████████████████████████████████████████████████████████████████████████████████████| 106/106 [00:00<00:00, 112.94it/s]\n"
     ]
    },
    {
     "name": "stdout",
     "output_type": "stream",
     "text": [
      "Epoch 48/200 - Train Loss: 0.0320, Val Loss: 0.0334\n"
     ]
    },
    {
     "name": "stderr",
     "output_type": "stream",
     "text": [
      "Epoch 49/200 - Training: 100%|███████████████████████████████████████████████████████████████████████████████████████████████████████| 424/424 [00:17<00:00, 24.07it/s]\n",
      "Validating: 100%|███████████████████████████████████████████████████████████████████████████████████████████████████████████████████| 106/106 [00:00<00:00, 114.32it/s]\n"
     ]
    },
    {
     "name": "stdout",
     "output_type": "stream",
     "text": [
      "Epoch 49/200 - Train Loss: 0.0323, Val Loss: 0.0349\n"
     ]
    },
    {
     "name": "stderr",
     "output_type": "stream",
     "text": [
      "Epoch 50/200 - Training: 100%|███████████████████████████████████████████████████████████████████████████████████████████████████████| 424/424 [00:07<00:00, 55.83it/s]\n",
      "Validating: 100%|███████████████████████████████████████████████████████████████████████████████████████████████████████████████████| 106/106 [00:00<00:00, 115.22it/s]\n"
     ]
    },
    {
     "name": "stdout",
     "output_type": "stream",
     "text": [
      "Epoch 50/200 - Train Loss: 0.0322, Val Loss: 0.0322\n"
     ]
    },
    {
     "name": "stderr",
     "output_type": "stream",
     "text": [
      "Epoch 51/200 - Training: 100%|███████████████████████████████████████████████████████████████████████████████████████████████████████| 424/424 [00:07<00:00, 55.80it/s]\n",
      "Validating: 100%|███████████████████████████████████████████████████████████████████████████████████████████████████████████████████| 106/106 [00:00<00:00, 117.69it/s]\n"
     ]
    },
    {
     "name": "stdout",
     "output_type": "stream",
     "text": [
      "Epoch 51/200 - Train Loss: 0.0323, Val Loss: 0.0352\n"
     ]
    },
    {
     "name": "stderr",
     "output_type": "stream",
     "text": [
      "Epoch 52/200 - Training: 100%|███████████████████████████████████████████████████████████████████████████████████████████████████████| 424/424 [00:08<00:00, 52.89it/s]\n",
      "Validating: 100%|███████████████████████████████████████████████████████████████████████████████████████████████████████████████████| 106/106 [00:00<00:00, 113.66it/s]\n"
     ]
    },
    {
     "name": "stdout",
     "output_type": "stream",
     "text": [
      "Epoch 52/200 - Train Loss: 0.0321, Val Loss: 0.0340\n"
     ]
    },
    {
     "name": "stderr",
     "output_type": "stream",
     "text": [
      "Epoch 53/200 - Training: 100%|███████████████████████████████████████████████████████████████████████████████████████████████████████| 424/424 [00:17<00:00, 24.06it/s]\n",
      "Validating: 100%|███████████████████████████████████████████████████████████████████████████████████████████████████████████████████| 106/106 [00:00<00:00, 112.83it/s]\n"
     ]
    },
    {
     "name": "stdout",
     "output_type": "stream",
     "text": [
      "Epoch 53/200 - Train Loss: 0.0321, Val Loss: 0.0329\n"
     ]
    },
    {
     "name": "stderr",
     "output_type": "stream",
     "text": [
      "Epoch 54/200 - Training: 100%|███████████████████████████████████████████████████████████████████████████████████████████████████████| 424/424 [00:07<00:00, 56.03it/s]\n",
      "Validating: 100%|███████████████████████████████████████████████████████████████████████████████████████████████████████████████████| 106/106 [00:00<00:00, 118.68it/s]\n"
     ]
    },
    {
     "name": "stdout",
     "output_type": "stream",
     "text": [
      "Epoch 54/200 - Train Loss: 0.0318, Val Loss: 0.0330\n"
     ]
    },
    {
     "name": "stderr",
     "output_type": "stream",
     "text": [
      "Epoch 55/200 - Training: 100%|███████████████████████████████████████████████████████████████████████████████████████████████████████| 424/424 [00:07<00:00, 55.80it/s]\n",
      "Validating: 100%|███████████████████████████████████████████████████████████████████████████████████████████████████████████████████| 106/106 [00:00<00:00, 117.83it/s]\n"
     ]
    },
    {
     "name": "stdout",
     "output_type": "stream",
     "text": [
      "Epoch 55/200 - Train Loss: 0.0316, Val Loss: 0.0324\n"
     ]
    },
    {
     "name": "stderr",
     "output_type": "stream",
     "text": [
      "Epoch 56/200 - Training: 100%|███████████████████████████████████████████████████████████████████████████████████████████████████████| 424/424 [00:07<00:00, 55.84it/s]\n",
      "Validating: 100%|███████████████████████████████████████████████████████████████████████████████████████████████████████████████████| 106/106 [00:00<00:00, 116.31it/s]\n"
     ]
    },
    {
     "name": "stdout",
     "output_type": "stream",
     "text": [
      "Epoch 56/200 - Train Loss: 0.0319, Val Loss: 0.0330\n"
     ]
    },
    {
     "name": "stderr",
     "output_type": "stream",
     "text": [
      "Epoch 57/200 - Training: 100%|███████████████████████████████████████████████████████████████████████████████████████████████████████| 424/424 [00:07<00:00, 56.01it/s]\n",
      "Validating: 100%|███████████████████████████████████████████████████████████████████████████████████████████████████████████████████| 106/106 [00:00<00:00, 118.97it/s]\n"
     ]
    },
    {
     "name": "stdout",
     "output_type": "stream",
     "text": [
      "Epoch 57/200 - Train Loss: 0.0319, Val Loss: 0.0330\n"
     ]
    },
    {
     "name": "stderr",
     "output_type": "stream",
     "text": [
      "Epoch 58/200 - Training: 100%|███████████████████████████████████████████████████████████████████████████████████████████████████████| 424/424 [00:14<00:00, 28.42it/s]\n",
      "Validating: 100%|███████████████████████████████████████████████████████████████████████████████████████████████████████████████████| 106/106 [00:00<00:00, 113.51it/s]\n"
     ]
    },
    {
     "name": "stdout",
     "output_type": "stream",
     "text": [
      "Epoch 58/200 - Train Loss: 0.0315, Val Loss: 0.0333\n"
     ]
    },
    {
     "name": "stderr",
     "output_type": "stream",
     "text": [
      "Epoch 59/200 - Training: 100%|███████████████████████████████████████████████████████████████████████████████████████████████████████| 424/424 [00:07<00:00, 55.71it/s]\n",
      "Validating: 100%|███████████████████████████████████████████████████████████████████████████████████████████████████████████████████| 106/106 [00:00<00:00, 118.47it/s]\n"
     ]
    },
    {
     "name": "stdout",
     "output_type": "stream",
     "text": [
      "Epoch 59/200 - Train Loss: 0.0315, Val Loss: 0.0334\n"
     ]
    },
    {
     "name": "stderr",
     "output_type": "stream",
     "text": [
      "Epoch 60/200 - Training: 100%|███████████████████████████████████████████████████████████████████████████████████████████████████████| 424/424 [00:07<00:00, 55.88it/s]\n",
      "Validating: 100%|███████████████████████████████████████████████████████████████████████████████████████████████████████████████████| 106/106 [00:00<00:00, 117.10it/s]\n"
     ]
    },
    {
     "name": "stdout",
     "output_type": "stream",
     "text": [
      "Epoch 60/200 - Train Loss: 0.0316, Val Loss: 0.0332\n",
      "Early stopping triggered!\n",
      "Training complete. Model is stored at ../snapshots/snapshot-2024-11-27_best_model_epoch_50/model.safetensors. Best Validation Loss: 0.03219879325479269\n"
     ]
    },
    {
     "data": {
      "text/html": [
       "\n",
       "    <style>\n",
       "        .wandb-row {\n",
       "            display: flex;\n",
       "            flex-direction: row;\n",
       "            flex-wrap: wrap;\n",
       "            justify-content: flex-start;\n",
       "            width: 100%;\n",
       "        }\n",
       "        .wandb-col {\n",
       "            display: flex;\n",
       "            flex-direction: column;\n",
       "            flex-basis: 100%;\n",
       "            flex: 1;\n",
       "            padding: 10px;\n",
       "        }\n",
       "    </style>\n",
       "<div class=\"wandb-row\"><div class=\"wandb-col\"><h3>Run history:</h3><br/><table class=\"wandb\"><tr><td>train_loss</td><td>█▆▆▅▅▃▃▃▃▃▃▃▂▂▂▂▂▂▂▂▂▂▂▂▂▁▁▁▁▁▁▁▁▁▁▁▁▁▁▁</td></tr><tr><td>val_loss</td><td>█▆▆▅▅▄▃▂▃▃▂▂▂▂▂▂▂▂▂▂▂▂▂▁▁▂▂▁▁▁▁▁▂▂▁▁▁▁▁▁</td></tr></table><br/></div><div class=\"wandb-col\"><h3>Run summary:</h3><br/><table class=\"wandb\"><tr><td>train_loss</td><td>0.03162</td></tr><tr><td>val_loss</td><td>0.03317</td></tr></table><br/></div></div>"
      ],
      "text/plain": [
       "<IPython.core.display.HTML object>"
      ]
     },
     "metadata": {},
     "output_type": "display_data"
    },
    {
     "data": {
      "text/html": [
       " View run <strong style=\"color:#cdcd00\">crimson-music-4</strong> at: <a href='https://wandb.ai/kim-company/afterlife/runs/uklmv5fb' target=\"_blank\">https://wandb.ai/kim-company/afterlife/runs/uklmv5fb</a><br/> View project at: <a href='https://wandb.ai/kim-company/afterlife' target=\"_blank\">https://wandb.ai/kim-company/afterlife</a><br/>Synced 5 W&B file(s), 0 media file(s), 0 artifact file(s) and 0 other file(s)"
      ],
      "text/plain": [
       "<IPython.core.display.HTML object>"
      ]
     },
     "metadata": {},
     "output_type": "display_data"
    },
    {
     "data": {
      "text/html": [
       "Find logs at: <code>./wandb/run-20241127_235114-uklmv5fb/logs</code>"
      ],
      "text/plain": [
       "<IPython.core.display.HTML object>"
      ]
     },
     "metadata": {},
     "output_type": "display_data"
    }
   ],
   "source": [
    "# Training\n",
    "from accelerate import Accelerator\n",
    "import torch\n",
    "import torch.nn as nn\n",
    "import torch.optim as optim\n",
    "from datetime import datetime\n",
    "from tqdm import tqdm\n",
    "from torch.utils.data import DataLoader, random_split\n",
    "import wandb\n",
    "\n",
    "\n",
    "\n",
    "# Initialize Accelerator\n",
    "accelerator = Accelerator()\n",
    "\n",
    "current_date = datetime.now().strftime(\"%Y-%m-%d\")\n",
    "num_epochs = 200\n",
    "patience = 20  # Early stopping patience\n",
    "best_val_loss = float(\"inf\")\n",
    "epochs_without_improvement = 0\n",
    "best_path = \"\"\n",
    "\n",
    "# Hyperparams\n",
    "lr = 1e-3\n",
    "sequence_length=90\n",
    "hidden_dim=128\n",
    "lstm_layers=3\n",
    "dense_layers=[64, 32, 16]\n",
    "batch_size = 32\n",
    "\n",
    "# Initialize the dataset\n",
    "dataset = SequenceToSequenceDataset(data, sequence_length=sequence_length)\n",
    "\n",
    "# Define split ratios\n",
    "train_ratio = 0.8\n",
    "val_ratio = 0.2\n",
    "\n",
    "# Compute split sizes\n",
    "dataset_size = len(dataset)\n",
    "train_size = int(train_ratio * dataset_size)\n",
    "val_size = dataset_size - train_size\n",
    "\n",
    "# Split dataset\n",
    "train_dataset, val_dataset = random_split(dataset, [train_size, val_size])\n",
    "\n",
    "# Create DataLoaders\n",
    "\n",
    "train_loader = DataLoader(train_dataset, batch_size=batch_size, shuffle=True)\n",
    "val_loader = DataLoader(val_dataset, batch_size=batch_size, shuffle=False)\n",
    "\n",
    "# Define model, optimizer, and loss function\n",
    "model = TrajectoryPredictor(hidden_dim=hidden_dim, lstm_layers=lstm_layers, dense_layers=dense_layers)\n",
    "\n",
    "optimizer = optim.Adam(model.parameters(), lr=lr)\n",
    "loss_fn = nn.MSELoss()  # Mean Squared Error for position regression\n",
    "\n",
    "# Prepare everything with Accelerate\n",
    "model, optimizer, train_loader, val_loader = accelerator.prepare(\n",
    "    model, optimizer, train_loader, val_loader\n",
    ")\n",
    "\n",
    "wandb.init(\n",
    "    # set the wandb project where this run will be logged\n",
    "    project=\"afterlife\",\n",
    "\n",
    "    # track hyperparameters and run metadata\n",
    "    config={\n",
    "    \"learning_rate\": lr,\n",
    "    \"architecture\": \"LSTM\",\n",
    "    \"dataset\": \"MAX\",\n",
    "    \"epochs\": num_epochs,\n",
    "    \"sequence_length\":sequence_length,\n",
    "    \"hidden_dim\": hidden_dim,\n",
    "    \"lstm_layers\": lstm_layers,\n",
    "    \"dense_layers\": dense_layers,\n",
    "    \"batch_size\": batch_size\n",
    "    }\n",
    ")\n",
    "\n",
    "for epoch in range(num_epochs):\n",
    "    # Training phase\n",
    "    model.train()\n",
    "    train_loss = 0.0\n",
    "    for batch in tqdm(train_loader, desc=f\"Epoch {epoch + 1}/{num_epochs} - Training\"):\n",
    "        inputs, targets = batch[:, 0], batch[:, 1]\n",
    "\n",
    "        optimizer.zero_grad()\n",
    "        outputs = model(inputs)  # Forward pass\n",
    "        loss = loss_fn(outputs, targets)  # Compute loss\n",
    "        accelerator.backward(loss)  # Backpropagation using Accelerate\n",
    "        optimizer.step()\n",
    "        \n",
    "        train_loss += loss.item()\n",
    "\n",
    "    train_loss /= len(train_loader)\n",
    "\n",
    "    # Validation phase\n",
    "    model.eval()\n",
    "    val_loss = 0.0\n",
    "    with torch.no_grad():\n",
    "        for batch in tqdm(val_loader, desc=\"Validating\"):\n",
    "            inputs, targets = batch[:, 0], batch[:, 1]\n",
    "            outputs = model(inputs)\n",
    "            loss = loss_fn(outputs, targets)\n",
    "            val_loss += loss.item()\n",
    "\n",
    "    val_loss /= len(val_loader)\n",
    "\n",
    "    # Log results\n",
    "    print(f\"Epoch {epoch + 1}/{num_epochs} - Train Loss: {train_loss:.4f}, Val Loss: {val_loss:.4f}\")\n",
    "    wandb.log({\"train_loss\": train_loss, \"val_loss\": val_loss})\n",
    "\n",
    "    # Early stopping\n",
    "    if val_loss < best_val_loss:\n",
    "        best_val_loss = val_loss\n",
    "        epochs_without_improvement = 0\n",
    "        # Save the best model\n",
    "        path = f\"../snapshots/snapshot-{current_date}_best_model_epoch_{epoch + 1}\"\n",
    "        accelerator.save_state(path)\n",
    "        best_path = f\"{path}/model.safetensors\"\n",
    "    else:\n",
    "        epochs_without_improvement += 1\n",
    "        if epochs_without_improvement >= patience:\n",
    "            print(\"Early stopping triggered!\")\n",
    "            break\n",
    "\n",
    "# Final cleanup\n",
    "print(f\"Training complete. Model is stored at {best_path}. Best Validation Loss: {best_val_loss}\")\n",
    "wandb.finish()"
   ]
  },
  {
   "cell_type": "code",
   "execution_count": 261,
   "id": "e5514a94-41eb-4333-badf-77f1b6b5290e",
   "metadata": {},
   "outputs": [
    {
     "data": {
      "text/plain": [
       "TrajectoryPredictor(\n",
       "  (lstm): LSTM(2, 128, num_layers=3, batch_first=True)\n",
       "  (fc): Sequential(\n",
       "    (0): Linear(in_features=128, out_features=64, bias=True)\n",
       "    (1): ReLU()\n",
       "    (2): Linear(in_features=64, out_features=32, bias=True)\n",
       "    (3): ReLU()\n",
       "    (4): Linear(in_features=32, out_features=16, bias=True)\n",
       "    (5): ReLU()\n",
       "  )\n",
       "  (output_layer): Linear(in_features=16, out_features=2, bias=True)\n",
       "  (sigmoid): Sigmoid()\n",
       ")"
      ]
     },
     "execution_count": 261,
     "metadata": {},
     "output_type": "execute_result"
    }
   ],
   "source": [
    "import torch\n",
    "from safetensors.torch import load_file\n",
    "\n",
    "trained_model = TrajectoryPredictor()\n",
    "\n",
    "# Load the parameters from the safetensors file\n",
    "path = f\"{best_path}/model.safetensors\"\n",
    "state_dict = load_file(path)\n",
    "\n",
    "# Load the state_dict into your model\n",
    "trained_model.load_state_dict(state_dict)\n",
    "\n",
    "# Move model to the appropriate device (e.g., CPU or GPU)\n",
    "device = torch.device(\"mps\")\n",
    "trained_model.to(device)"
   ]
  },
  {
   "cell_type": "code",
   "execution_count": 262,
   "id": "12c5de84-e764-42e4-88fe-b70659f7cc27",
   "metadata": {},
   "outputs": [
    {
     "data": {
      "text/plain": [
       "torch.Size([100, 2])"
      ]
     },
     "execution_count": 262,
     "metadata": {},
     "output_type": "execute_result"
    }
   ],
   "source": [
    "eval_loader = DataLoader(val_dataset, batch_size=1, shuffle=True)\n",
    "item = next(iter(eval_loader)).squeeze(0)[0]\n",
    "item.shape"
   ]
  },
  {
   "cell_type": "code",
   "execution_count": 263,
   "id": "7c4540e6-e015-4c88-9481-03cbd91618dd",
   "metadata": {},
   "outputs": [
    {
     "name": "stdout",
     "output_type": "stream",
     "text": [
      "tensor([[0.4842, 0.4415],\n",
      "        [0.4671, 0.4734],\n",
      "        [0.4769, 0.4197],\n",
      "        [0.4894, 0.3944],\n",
      "        [0.4932, 0.3923],\n",
      "        [0.4837, 0.3554],\n",
      "        [0.4715, 0.3364],\n",
      "        [0.4693, 0.3291],\n",
      "        [0.4692, 0.3214],\n",
      "        [0.4709, 0.3078],\n",
      "        [0.4760, 0.2825],\n",
      "        [0.4783, 0.2744],\n",
      "        [0.4794, 0.2716],\n",
      "        [0.4789, 0.2892],\n",
      "        [0.4797, 0.3513],\n",
      "        [0.4856, 0.3848],\n",
      "        [0.4891, 0.4099],\n",
      "        [0.4900, 0.4163],\n",
      "        [0.4921, 0.4245],\n",
      "        [0.4926, 0.4207],\n",
      "        [0.4929, 0.4185],\n",
      "        [0.4923, 0.4232],\n",
      "        [0.4914, 0.4332],\n",
      "        [0.4903, 0.4445],\n",
      "        [0.4887, 0.4492],\n",
      "        [0.4878, 0.4548],\n",
      "        [0.4866, 0.4626],\n",
      "        [0.4852, 0.4720],\n",
      "        [0.4837, 0.4792],\n",
      "        [0.4823, 0.4849],\n",
      "        [0.4809, 0.4913],\n",
      "        [0.4798, 0.4968],\n",
      "        [0.4791, 0.5006],\n",
      "        [0.4786, 0.5051],\n",
      "        [0.4782, 0.5095],\n",
      "        [0.4778, 0.5137],\n",
      "        [0.4774, 0.5177],\n",
      "        [0.4771, 0.5217],\n",
      "        [0.4767, 0.5255],\n",
      "        [0.4763, 0.5291],\n",
      "        [0.4759, 0.5326],\n",
      "        [0.4756, 0.5362],\n",
      "        [0.4753, 0.5397],\n",
      "        [0.4749, 0.5431],\n",
      "        [0.4746, 0.5464],\n",
      "        [0.4743, 0.5494],\n",
      "        [0.4740, 0.5520],\n",
      "        [0.4741, 0.5581],\n",
      "        [0.4741, 0.5645],\n",
      "        [0.4742, 0.5705],\n",
      "        [0.4743, 0.5760],\n",
      "        [0.4743, 0.5819],\n",
      "        [0.4743, 0.5880],\n",
      "        [0.4745, 0.5916],\n",
      "        [0.4748, 0.5913],\n",
      "        [0.4756, 0.5898],\n",
      "        [0.4762, 0.5913],\n",
      "        [0.4763, 0.5929],\n",
      "        [0.4762, 0.5929],\n",
      "        [0.4760, 0.5939],\n",
      "        [0.4763, 0.5998],\n",
      "        [0.4777, 0.6130],\n",
      "        [0.4821, 0.6545],\n",
      "        [0.4863, 0.7126],\n",
      "        [0.4862, 0.7404],\n",
      "        [0.4853, 0.7607],\n",
      "        [0.4842, 0.7328],\n",
      "        [0.4846, 0.6501],\n",
      "        [0.4866, 0.5942],\n",
      "        [0.4884, 0.6087],\n",
      "        [0.4923, 0.7101],\n",
      "        [0.4927, 0.7742],\n",
      "        [0.4886, 0.7848],\n",
      "        [0.4867, 0.7814],\n",
      "        [0.4875, 0.7749],\n",
      "        [0.4871, 0.7814],\n",
      "        [0.4846, 0.7992],\n",
      "        [0.4817, 0.8133],\n",
      "        [0.4789, 0.8231],\n",
      "        [0.4769, 0.8288],\n",
      "        [0.4757, 0.8320],\n",
      "        [0.4747, 0.8345],\n",
      "        [0.4741, 0.8361],\n",
      "        [0.4737, 0.8363],\n",
      "        [0.4724, 0.8418],\n",
      "        [0.4705, 0.8330],\n",
      "        [0.4740, 0.8024],\n",
      "        [0.4822, 0.7566],\n",
      "        [0.4890, 0.7095],\n",
      "        [0.4923, 0.6808],\n",
      "        [0.4949, 0.6630],\n",
      "        [0.4974, 0.6431],\n",
      "        [0.4980, 0.6198],\n",
      "        [0.4990, 0.5884],\n",
      "        [0.5008, 0.5641],\n",
      "        [0.4978, 0.5452],\n",
      "        [0.4931, 0.5200],\n",
      "        [0.4911, 0.5035],\n",
      "        [0.4899, 0.5081],\n",
      "        [0.4893, 0.5184]])\n"
     ]
    }
   ],
   "source": [
    "with torch.no_grad():\n",
    "    predicted = trained_model(item.to(device))\n",
    "    \n",
    "predicted = predicted.squeeze(0).detach().cpu()\n",
    "print(predicted)\n",
    "plot_data = torch.cat((have, predicted), dim=0)"
   ]
  },
  {
   "cell_type": "code",
   "execution_count": 264,
   "id": "baa23b77-a6f1-48da-8249-8d0a04cd5ddd",
   "metadata": {},
   "outputs": [
    {
     "data": {
      "image/png": "[encoded data removed]",
      "text/plain": [
       "<Figure size 800x600 with 2 Axes>"
      ]
     },
     "metadata": {},
     "output_type": "display_data"
    }
   ],
   "source": [
    "import matplotlib.pyplot as plt\n",
    "import numpy as np\n",
    "\n",
    "# Extract x, y coordinates\n",
    "x, y = plot_data[:, 0], plot_data[:, 1]\n",
    "\n",
    "# Generate colors based on indices\n",
    "colors = np.arange(len(plot_data))\n",
    "\n",
    "# Create scatter plot\n",
    "plt.figure(figsize=(8, 6))\n",
    "scatter = plt.scatter(x, y, c=colors, cmap='viridis', s=100, edgecolor='k')\n",
    "\n",
    "# Add colorbar\n",
    "plt.colorbar(scatter, label=\"Index\")\n",
    "\n",
    "# Add labels and grid\n",
    "plt.xlabel(\"X Coordinate\")\n",
    "plt.ylabel(\"Y Coordinate\")\n",
    "plt.title(\"Scatterplot of Points with Index-Based Coloring\")\n",
    "plt.grid(True)\n",
    "plt.show()"
   ]
  }
 ],
 "metadata": {
  "kernelspec": {
   "display_name": "Python 3 (ipykernel)",
   "language": "python",
   "name": "python3"
  },
  "language_info": {
   "codemirror_mode": {
    "name": "ipython",
    "version": 3
   },
   "file_extension": ".py",
   "mimetype": "text/x-python",
   "name": "python",
   "nbconvert_exporter": "python",
   "pygments_lexer": "ipython3",
   "version": "3.11.9"
  }
 },
 "nbformat": 4,
 "nbformat_minor": 5
}
