{
 "cells": [
  {
   "cell_type": "code",
   "execution_count": 192,
   "id": "7f661538-66e5-4507-b121-f73309ddcf6b",
   "metadata": {},
   "outputs": [],
   "source": [
    "import json\n",
    "import torch\n",
    "import torch.nn as nn\n",
    "import numpy as np\n",
    "from torch.utils.data import Dataset, DataLoader\n",
    "from pathlib import Path"
   ]
  },
  {
   "cell_type": "code",
   "execution_count": 254,
   "id": "4130e797-a003-462c-acae-de5f34ce3912",
   "metadata": {},
   "outputs": [],
   "source": [
    "# Importing the dataset.\n",
    "# The LIDAR server produces samples at 30Hz with object positions normalized in their\n",
    "# space, i.e. x and y values are in the 0-1 range.\n",
    "datadir = Path(\"../testdata\")\n",
    "names = [\n",
    "    \"dump-1731964073793.jsonl\",\n",
    "    \"dump-1731965089198.jsonl\",\n",
    "    \"dump-1731966752296.jsonl\",\n",
    "    \"dump-1732220377000.jsonl\",\n",
    "    \"dump-1732378712139.jsonl\"\n",
    "]\n",
    "\n",
    "data = []\n",
    "for name in names:\n",
    "    path = datadir.joinpath(datadir, name)\n",
    "    f = open(path, 'r')\n",
    "    last_is_zero = False\n",
    "    points = []\n",
    "    for line in f.readlines():\n",
    "        d = json.loads(line)\n",
    "        if d['type'] != 'object':\n",
    "            continue\n",
    "        payload = d['payload']\n",
    "        # At the beginning and end of the session there is nobody on stage and\n",
    "        # there are many 0,0 points.\n",
    "        is_zero = payload['x'] == 0 and payload['y'] == 0\n",
    "        if is_zero:\n",
    "            continue\n",
    "            \n",
    "        points.append({\n",
    "            'x': payload['x'],\n",
    "            'y': payload['y'],\n",
    "        })\n",
    "    data.append(points)"
   ]
  },
  {
   "cell_type": "code",
   "execution_count": 255,
   "id": "02d8ff0c-9a15-484b-a51c-2d036c630438",
   "metadata": {},
   "outputs": [],
   "source": [
    "class SequenceToSequenceDataset(Dataset):\n",
    "    # Instead of predicting the next point, we make the network predict\n",
    "    # the next trajectory. This way, it will be forced to imitate the\n",
    "    # behaviour of the training setup.\n",
    "    def __init__(self, data, sequence_length=90):\n",
    "        self.sequence_length = sequence_length\n",
    "\n",
    "        for points in data:     \n",
    "            # Convert data to numpy array\n",
    "            xy_points = np.array([[d['x'], d['y']] for d in points])\n",
    "        \n",
    "            # Create sequences\n",
    "            self.sequences = []\n",
    "            self.targets = []\n",
    "        \n",
    "            for i in range(len(xy_points) - (sequence_length * 2)):\n",
    "                start = i\n",
    "                mid = i + sequence_length\n",
    "                end = mid + sequence_length\n",
    "            \n",
    "                self.sequences.append(xy_points[start:mid])\n",
    "                self.targets.append(xy_points[mid:end])\n",
    "    \n",
    "    def __len__(self):\n",
    "        return len(self.sequences)\n",
    "    \n",
    "    def __getitem__(self, idx):\n",
    "        return torch.as_tensor([self.sequences[idx], self.targets[idx]], dtype=torch.float32)"
   ]
  },
  {
   "cell_type": "code",
   "execution_count": 256,
   "id": "abdf5ce8-2713-43e5-bf48-8085ff84f2d9",
   "metadata": {},
   "outputs": [
    {
     "data": {
      "text/plain": [
       "torch.Size([2, 90, 2])"
      ]
     },
     "execution_count": 256,
     "metadata": {},
     "output_type": "execute_result"
    }
   ],
   "source": [
    "# Checking that the dataset works.\n",
    "dataset = SequenceToSequenceDataset(data)\n",
    "next(iter(dataset)).shape"
   ]
  },
  {
   "cell_type": "code",
   "execution_count": 257,
   "id": "201a86a0-5ead-4675-bf2c-37ef5962a1c8",
   "metadata": {},
   "outputs": [],
   "source": [
    "class TrajectoryPredictor(nn.Module):\n",
    "    def __init__(self, input_dim=2, hidden_dim=128, lstm_layers=3, dense_layers=[64, 32, 16], output_dim=2):\n",
    "        super(TrajectoryPredictor, self).__init__()\n",
    "        \n",
    "        # LSTM layers for temporal processing\n",
    "        self.lstm = nn.LSTM(\n",
    "            input_size=input_dim,\n",
    "            hidden_size=hidden_dim,\n",
    "            num_layers=lstm_layers,\n",
    "            batch_first=True\n",
    "        )\n",
    "        \n",
    "        # Fully connected layers for further feature processing\n",
    "        dense_layers_list = []\n",
    "        input_size = hidden_dim\n",
    "        for layer_size in dense_layers:\n",
    "            dense_layers_list.append(nn.Linear(input_size, layer_size))\n",
    "            dense_layers_list.append(nn.ReLU())\n",
    "            input_size = layer_size\n",
    "        self.fc = nn.Sequential(*dense_layers_list)\n",
    "        \n",
    "        # Output layer with Sigmoid activation\n",
    "        self.output_layer = nn.Linear(input_size, output_dim)\n",
    "        self.sigmoid = nn.Sigmoid()\n",
    "    \n",
    "    def forward(self, x):\n",
    "        # x: (batch_size, input_sequence_length, input_dim)\n",
    "        lstm_out, _ = self.lstm(x)  # lstm_out: (batch_size, input_sequence_length, hidden_dim)\n",
    "        dense_out = self.fc(lstm_out)  # Pass each timestep's hidden state through dense layers\n",
    "        output = self.sigmoid(self.output_layer(dense_out))  # Output: (batch_size, input_sequence_length, output_dim)\n",
    "        return output"
   ]
  },
  {
   "cell_type": "code",
   "execution_count": 252,
   "id": "564692a2-8684-4629-983e-13af17201b9d",
   "metadata": {},
   "outputs": [
    {
     "name": "stdout",
     "output_type": "stream",
     "text": [
      "tensor([[[0.5558, 0.5719],\n",
      "         [0.5559, 0.5719],\n",
      "         [0.5560, 0.5719],\n",
      "         [0.5560, 0.5719],\n",
      "         [0.5561, 0.5719]]])\n"
     ]
    }
   ],
   "source": [
    "# Checking that the model works\n",
    "model = TrajectoryPredictor()\n",
    "with torch.no_grad():\n",
    "    dummy_input = torch.rand(1, 5, 2)\n",
    "    # Forward pass\n",
    "    output = model(dummy_input)\n",
    "    print(output) "
   ]
  },
  {
   "cell_type": "code",
   "execution_count": 286,
   "id": "0f849fee-1059-4b7f-8f78-b5aef633dd83",
   "metadata": {},
   "outputs": [
    {
     "data": {
      "text/html": [
       "Tracking run with wandb version 0.18.7"
      ],
      "text/plain": [
       "<IPython.core.display.HTML object>"
      ]
     },
     "metadata": {},
     "output_type": "display_data"
    },
    {
     "data": {
      "text/html": [
       "Run data is saved locally in <code>/Users/dmorn/projects/sy/afterlife/notebooks/wandb/run-20241128_004111-yn4l6045</code>"
      ],
      "text/plain": [
       "<IPython.core.display.HTML object>"
      ]
     },
     "metadata": {},
     "output_type": "display_data"
    },
    {
     "data": {
      "text/html": [
       "Syncing run <strong><a href='https://wandb.ai/kim-company/afterlife/runs/yn4l6045' target=\"_blank\">royal-flower-6</a></strong> to <a href='https://wandb.ai/kim-company/afterlife' target=\"_blank\">Weights & Biases</a> (<a href='https://wandb.me/developer-guide' target=\"_blank\">docs</a>)<br/>"
      ],
      "text/plain": [
       "<IPython.core.display.HTML object>"
      ]
     },
     "metadata": {},
     "output_type": "display_data"
    },
    {
     "data": {
      "text/html": [
       " View project at <a href='https://wandb.ai/kim-company/afterlife' target=\"_blank\">https://wandb.ai/kim-company/afterlife</a>"
      ],
      "text/plain": [
       "<IPython.core.display.HTML object>"
      ]
     },
     "metadata": {},
     "output_type": "display_data"
    },
    {
     "data": {
      "text/html": [
       " View run at <a href='https://wandb.ai/kim-company/afterlife/runs/yn4l6045' target=\"_blank\">https://wandb.ai/kim-company/afterlife/runs/yn4l6045</a>"
      ],
      "text/plain": [
       "<IPython.core.display.HTML object>"
      ]
     },
     "metadata": {},
     "output_type": "display_data"
    },
    {
     "name": "stderr",
     "output_type": "stream",
     "text": [
      "Epoch 1/1 - Training: 100%|██████████████████████████████████████████████████████████████████████████████████████████████████████████| 424/424 [00:05<00:00, 71.85it/s]\n",
      "Validating: 100%|███████████████████████████████████████████████████████████████████████████████████████████████████████████████████| 106/106 [00:00<00:00, 147.71it/s]\n"
     ]
    },
    {
     "name": "stdout",
     "output_type": "stream",
     "text": [
      "Epoch 1/1 - Train Loss: 0.0487, Val Loss: 0.0438\n",
      "Training complete. Model is stored at ../models/royal-flower-6.safetensors. Best Validation Loss: 0.043828637637900854\n"
     ]
    },
    {
     "data": {
      "text/html": [
       "\n",
       "    <style>\n",
       "        .wandb-row {\n",
       "            display: flex;\n",
       "            flex-direction: row;\n",
       "            flex-wrap: wrap;\n",
       "            justify-content: flex-start;\n",
       "            width: 100%;\n",
       "        }\n",
       "        .wandb-col {\n",
       "            display: flex;\n",
       "            flex-direction: column;\n",
       "            flex-basis: 100%;\n",
       "            flex: 1;\n",
       "            padding: 10px;\n",
       "        }\n",
       "    </style>\n",
       "<div class=\"wandb-row\"><div class=\"wandb-col\"><h3>Run history:</h3><br/><table class=\"wandb\"><tr><td>train_loss</td><td>▁</td></tr><tr><td>val_loss</td><td>▁</td></tr></table><br/></div><div class=\"wandb-col\"><h3>Run summary:</h3><br/><table class=\"wandb\"><tr><td>train_loss</td><td>0.04874</td></tr><tr><td>val_loss</td><td>0.04383</td></tr></table><br/></div></div>"
      ],
      "text/plain": [
       "<IPython.core.display.HTML object>"
      ]
     },
     "metadata": {},
     "output_type": "display_data"
    },
    {
     "data": {
      "text/html": [
       " View run <strong style=\"color:#cdcd00\">royal-flower-6</strong> at: <a href='https://wandb.ai/kim-company/afterlife/runs/yn4l6045' target=\"_blank\">https://wandb.ai/kim-company/afterlife/runs/yn4l6045</a><br/> View project at: <a href='https://wandb.ai/kim-company/afterlife' target=\"_blank\">https://wandb.ai/kim-company/afterlife</a><br/>Synced 5 W&B file(s), 0 media file(s), 0 artifact file(s) and 0 other file(s)"
      ],
      "text/plain": [
       "<IPython.core.display.HTML object>"
      ]
     },
     "metadata": {},
     "output_type": "display_data"
    },
    {
     "data": {
      "text/html": [
       "Find logs at: <code>./wandb/run-20241128_004111-yn4l6045/logs</code>"
      ],
      "text/plain": [
       "<IPython.core.display.HTML object>"
      ]
     },
     "metadata": {},
     "output_type": "display_data"
    }
   ],
   "source": [
    "# Training\n",
    "from accelerate import Accelerator\n",
    "import torch\n",
    "import shutil\n",
    "import os\n",
    "import torch.nn as nn\n",
    "import torch.optim as optim\n",
    "from datetime import datetime\n",
    "from tqdm import tqdm\n",
    "from torch.utils.data import DataLoader, random_split\n",
    "import wandb\n",
    "\n",
    "\n",
    "\n",
    "# Initialize Accelerator\n",
    "accelerator = Accelerator()\n",
    "\n",
    "current_date = datetime.now().strftime(\"%Y-%m-%d\")\n",
    "num_epochs = 100\n",
    "patience = 10  # Early stopping patience\n",
    "best_val_loss = float(\"inf\")\n",
    "epochs_without_improvement = 0\n",
    "best_path = \"\"\n",
    "\n",
    "# Hyperparams\n",
    "lr = 1e-3\n",
    "sequence_length=90\n",
    "hidden_dim=128\n",
    "lstm_layers=2\n",
    "dense_layers=[128, 64, 32, 16]\n",
    "batch_size = 32\n",
    "\n",
    "# Initialize the dataset\n",
    "dataset = SequenceToSequenceDataset(data, sequence_length=sequence_length)\n",
    "\n",
    "# Define split ratios\n",
    "train_ratio = 0.8\n",
    "val_ratio = 0.2\n",
    "\n",
    "# Compute split sizes\n",
    "dataset_size = len(dataset)\n",
    "train_size = int(train_ratio * dataset_size)\n",
    "val_size = dataset_size - train_size\n",
    "\n",
    "# Split dataset\n",
    "train_dataset, val_dataset = random_split(dataset, [train_size, val_size])\n",
    "\n",
    "# Create DataLoaders\n",
    "\n",
    "train_loader = DataLoader(train_dataset, batch_size=batch_size, shuffle=True)\n",
    "val_loader = DataLoader(val_dataset, batch_size=batch_size, shuffle=False)\n",
    "\n",
    "# Define model, optimizer, and loss function\n",
    "model = TrajectoryPredictor(hidden_dim=hidden_dim, lstm_layers=lstm_layers, dense_layers=dense_layers)\n",
    "\n",
    "optimizer = optim.Adam(model.parameters(), lr=lr)\n",
    "loss_fn = nn.MSELoss()  # Mean Squared Error for position regression\n",
    "\n",
    "# Prepare everything with Accelerate\n",
    "model, optimizer, train_loader, val_loader = accelerator.prepare(\n",
    "    model, optimizer, train_loader, val_loader\n",
    ")\n",
    "\n",
    "run = wandb.init(\n",
    "    # set the wandb project where this run will be logged\n",
    "    project=\"afterlife\",\n",
    "\n",
    "    # track hyperparameters and run metadata\n",
    "    config={\n",
    "    \"learning_rate\": lr,\n",
    "    \"architecture\": \"LSTM\",\n",
    "    \"dataset\": \"MAX\",\n",
    "    \"epochs\": num_epochs,\n",
    "    \"sequence_length\":sequence_length,\n",
    "    \"hidden_dim\": hidden_dim,\n",
    "    \"lstm_layers\": lstm_layers,\n",
    "    \"dense_layers\": dense_layers,\n",
    "    \"batch_size\": batch_size\n",
    "    }\n",
    ")\n",
    "\n",
    "for epoch in range(num_epochs):\n",
    "    # Training phase\n",
    "    model.train()\n",
    "    train_loss = 0.0\n",
    "    for batch in tqdm(train_loader, desc=f\"Epoch {epoch + 1}/{num_epochs} - Training\"):\n",
    "        inputs, targets = batch[:, 0], batch[:, 1]\n",
    "\n",
    "        optimizer.zero_grad()\n",
    "        outputs = model(inputs)  # Forward pass\n",
    "        loss = loss_fn(outputs, targets)  # Compute loss\n",
    "        accelerator.backward(loss)  # Backpropagation using Accelerate\n",
    "        optimizer.step()\n",
    "        \n",
    "        train_loss += loss.item()\n",
    "\n",
    "    train_loss /= len(train_loader)\n",
    "\n",
    "    # Validation phase\n",
    "    model.eval()\n",
    "    val_loss = 0.0\n",
    "    with torch.no_grad():\n",
    "        for batch in tqdm(val_loader, desc=\"Validating\"):\n",
    "            inputs, targets = batch[:, 0], batch[:, 1]\n",
    "            outputs = model(inputs)\n",
    "            loss = loss_fn(outputs, targets)\n",
    "            val_loss += loss.item()\n",
    "\n",
    "    val_loss /= len(val_loader)\n",
    "\n",
    "    # Log results\n",
    "    print(f\"Epoch {epoch + 1}/{num_epochs} - Train Loss: {train_loss:.4f}, Val Loss: {val_loss:.4f}\")\n",
    "    wandb.log({\"train_loss\": train_loss, \"val_loss\": val_loss})\n",
    "\n",
    "    # Early stopping\n",
    "    if val_loss < best_val_loss:\n",
    "        best_val_loss = val_loss\n",
    "        epochs_without_improvement = 0\n",
    "        # Save the best model\n",
    "        path = f\"../snapshots/snapshot-{current_date}_best_model_epoch_{epoch + 1}\"\n",
    "        accelerator.save_state(path)\n",
    "        best_path = f\"{path}/model.safetensors\"\n",
    "    else:\n",
    "        epochs_without_improvement += 1\n",
    "        if epochs_without_improvement >= patience:\n",
    "            print(\"Early stopping triggered!\")\n",
    "            break\n",
    "\n",
    "# Final cleanup\n",
    "output_path = f\"../models/{run.name}.safetensors\"\n",
    "os.rename(best_path, output_path)\n",
    "shutil.rmtree(\"../snapshots\")\n",
    "\n",
    "print(f\"Training complete. Model is stored at {output_path}. Best Validation Loss: {best_val_loss}\")\n",
    "wandb.finish()"
   ]
  },
  {
   "cell_type": "code",
   "execution_count": 270,
   "id": "e5514a94-41eb-4333-badf-77f1b6b5290e",
   "metadata": {},
   "outputs": [
    {
     "data": {
      "text/plain": [
       "TrajectoryPredictor(\n",
       "  (lstm): LSTM(2, 128, num_layers=2, batch_first=True)\n",
       "  (fc): Sequential(\n",
       "    (0): Linear(in_features=128, out_features=128, bias=True)\n",
       "    (1): ReLU()\n",
       "    (2): Linear(in_features=128, out_features=64, bias=True)\n",
       "    (3): ReLU()\n",
       "    (4): Linear(in_features=64, out_features=32, bias=True)\n",
       "    (5): ReLU()\n",
       "    (6): Linear(in_features=32, out_features=16, bias=True)\n",
       "    (7): ReLU()\n",
       "  )\n",
       "  (output_layer): Linear(in_features=16, out_features=2, bias=True)\n",
       "  (sigmoid): Sigmoid()\n",
       ")"
      ]
     },
     "execution_count": 270,
     "metadata": {},
     "output_type": "execute_result"
    }
   ],
   "source": [
    "import torch\n",
    "from safetensors.torch import load_file\n",
    "\n",
    "trained_model = TrajectoryPredictor(hidden_dim=hidden_dim, lstm_layers=lstm_layers, dense_layers=dense_layers)\n",
    "\n",
    "# Load the parameters from the safetensors file\n",
    "path = best_path\n",
    "state_dict = load_file(path)\n",
    "\n",
    "# Load the state_dict into your model\n",
    "trained_model.load_state_dict(state_dict)\n",
    "\n",
    "# Move model to the appropriate device (e.g., CPU or GPU)\n",
    "device = torch.device(\"mps\")\n",
    "trained_model.to(device)"
   ]
  },
  {
   "cell_type": "code",
   "execution_count": 271,
   "id": "12c5de84-e764-42e4-88fe-b70659f7cc27",
   "metadata": {},
   "outputs": [
    {
     "data": {
      "text/plain": [
       "torch.Size([90, 2])"
      ]
     },
     "execution_count": 271,
     "metadata": {},
     "output_type": "execute_result"
    }
   ],
   "source": [
    "eval_loader = DataLoader(val_dataset, batch_size=1, shuffle=True)\n",
    "item = next(iter(eval_loader)).squeeze(0)[0]\n",
    "item.shape"
   ]
  },
  {
   "cell_type": "code",
   "execution_count": 285,
   "id": "7c4540e6-e015-4c88-9481-03cbd91618dd",
   "metadata": {},
   "outputs": [
    {
     "data": {
      "image/png": "[encoded data removed]",
      "text/plain": [
       "<Figure size 800x600 with 2 Axes>"
      ]
     },
     "metadata": {},
     "output_type": "display_data"
    }
   ],
   "source": [
    "import matplotlib.pyplot as plt\n",
    "import numpy as np\n",
    "\n",
    "item = next(iter(eval_loader)).squeeze(0)[0]\n",
    "item.shape\n",
    "\n",
    "with torch.no_grad():\n",
    "    predicted = trained_model(item.to(device))\n",
    "    \n",
    "predicted = predicted.squeeze(0).detach().cpu()\n",
    "plot_data = torch.cat((have, predicted), dim=0)\n",
    "\n",
    "# Extract x, y coordinates\n",
    "x, y = plot_data[:, 0], plot_data[:, 1]\n",
    "\n",
    "# Generate colors based on indices\n",
    "colors = np.arange(len(plot_data))\n",
    "\n",
    "# Create scatter plot\n",
    "plt.figure(figsize=(8, 6))\n",
    "scatter = plt.scatter(x, y, c=colors, cmap='viridis', s=100, edgecolor='k')\n",
    "\n",
    "# Add colorbar\n",
    "plt.colorbar(scatter, label=\"Index\")\n",
    "\n",
    "# Add labels and grid\n",
    "plt.xlabel(\"X Coordinate\")\n",
    "plt.ylabel(\"Y Coordinate\")\n",
    "plt.title(\"Scatterplot of Points with Index-Based Coloring\")\n",
    "plt.grid(True)\n",
    "plt.show()"
   ]
  }
 ],
 "metadata": {
  "kernelspec": {
   "display_name": "Python 3 (ipykernel)",
   "language": "python",
   "name": "python3"
  },
  "language_info": {
   "codemirror_mode": {
    "name": "ipython",
    "version": 3
   },
   "file_extension": ".py",
   "mimetype": "text/x-python",
   "name": "python",
   "nbconvert_exporter": "python",
   "pygments_lexer": "ipython3",
   "version": "3.11.9"
  }
 },
 "nbformat": 4,
 "nbformat_minor": 5
}
